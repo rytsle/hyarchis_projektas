{
 "cells": [
  {
   "cell_type": "code",
   "execution_count": null,
   "id": "ebbea2d3",
   "metadata": {},
   "outputs": [],
   "source": [
    "import pandas as pd\n",
    "from sklearn.model_selection import train_test_split \n",
    "import nltk\n",
    "from nltk.corpus import stopwords\n",
    "from sklearn.feature_extraction.text import TfidfVectorizer\n",
    "from sklearn.svm import SVC\n",
    "from sklearn.metrics import classification_report\n",
    "\n",
    "file_path = 'Tweets.csv'\n",
    "df = pd.read_csv(file_path, encoding='utf-8')\n",
    "df = df[['text', 'sentiment']]\n",
    "df.dropna(inplace=True)\n",
    "df.head()\n",
    "df['text'] = df['text'].apply(lambda x: x.lower())\n",
    "df['text'] = df['text'].str.replace(r'http\\S+|www\\S+|https\\S+', '', case=False)\n",
    "df['text'] = df['text'].str.replace(r'@\\\\w+', '', case=False)\n",
    "df['text'] = df['text'].str.replace(r'#\\\\w+', '', case=False)\n",
    "\n",
    "\n",
    "stop_words = set(stopwords.words('english'))\n",
    "\n",
    "keep_words = ['not', 'no', 'never', 'neither', 'nor', 'none', 'hardly', 'barely', 'scarcely', \"don't\", \n",
    "                  \"doesn't\", \"didn't\", \"won't\", \"wouldn't\", \"can't\", \"couldn't\", \"shouldn't\", \"isn't\", \"aren't\"]\n",
    "\n",
    "for word in keep_words:\n",
    "    if word in stop_words:\n",
    "        stop_words.remove(word)\n",
    "\n",
    "\n",
    "df['text'] = df['text'].apply(lambda x: ' '.join([word for word in x.split() if word not in stop_words]))\n",
    "\n",
    "# scikit learn\n",
    "vectorizer = TfidfVectorizer()\n",
    "\n",
    "X = vectorizer.fit_transform(df['text'])\n",
    "Y = df['sentiment']\n",
    "X_train, X_test, y_train, y_test = train_test_split(X, Y, test_size=0.2, random_state=42)\n",
    "\n",
    "svm_model = SVC(kernel='linear')\n",
    "svm_model.fit(X_train, y_train)\n",
    "\n",
    "# Make predictions\n",
    "y_pred = svm_model.predict(X_test)\n",
    "\n",
    "# Evaluate the model\n",
    "print(classification_report(y_test, y_pred))\n",
    "\n"
   ]
  },
  {
   "cell_type": "code",
   "execution_count": null,
   "id": "2a3a9d7b",
   "metadata": {},
   "outputs": [],
   "source": []
  }
 ],
 "metadata": {
  "kernelspec": {
   "display_name": "hyarchis",
   "language": "python",
   "name": "python3"
  },
  "language_info": {
   "codemirror_mode": {
    "name": "ipython",
    "version": 3
   },
   "file_extension": ".py",
   "mimetype": "text/x-python",
   "name": "python",
   "nbconvert_exporter": "python",
   "pygments_lexer": "ipython3",
   "version": "3.12.9"
  }
 },
 "nbformat": 4,
 "nbformat_minor": 5
}
